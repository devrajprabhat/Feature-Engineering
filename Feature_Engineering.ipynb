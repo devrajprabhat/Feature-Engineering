{
  "nbformat": 4,
  "nbformat_minor": 0,
  "metadata": {
    "colab": {
      "provenance": []
    },
    "kernelspec": {
      "name": "python3",
      "display_name": "Python 3"
    },
    "language_info": {
      "name": "python"
    }
  },
  "cells": [
    {
      "cell_type": "markdown",
      "source": [
        "# **Feature Engineering**\n"
      ],
      "metadata": {
        "id": "o1R1YfvXMwCa"
      }
    },
    {
      "cell_type": "markdown",
      "source": [
        "1.  What is a parameter?\n",
        "   - A parameter is an internal part of a machine learning model that is learned from the training data. It helps the model make predictions."
      ],
      "metadata": {
        "id": "bl0DzMHkM1oS"
      }
    },
    {
      "cell_type": "markdown",
      "source": [
        "2.  What is correlation?\n",
        " What does negative correlation mean?\n",
        "    - Correlation is a statistical measure that describes the strength and direction of a relationship between two variables. It quantifies how changes in one variable are associated with changes in another. The most common measure is the Pearson correlation coefficient, which ranges from -1 (perfect negative correlation) to +1 (perfect positive correlation), with 0 indicating no linear relationship\n",
        "    - A negative correlation means that as one variable increases, the other variable tends to decrease, and vice versa. In other words, the variables move in opposite directions. For example, if the correlation coefficient between hours spent watching TV and exam scores is -0.8, it suggests that more TV time is associated with lower exam scores"
      ],
      "metadata": {
        "id": "Y-Kf1m0sNUgS"
      }
    },
    {
      "cell_type": "markdown",
      "source": [
        "3.  Define Machine Learning. What are the main components in Machine Learning?\n",
        "   - Machine Learning is a subset of artificial intelligence that enables computers to learn from data and improve their performance on tasks without being explicitly programmed. The main components in machine learning are:\n",
        "- Data: The raw information used for training and testing models.\n",
        "- Algorithms: Mathematical procedures or rules that process data to find patterns.\n",
        "- Model: The output of the learning process, which can make predictions or decisions.\n",
        "- Training: The process of feeding data to the algorithm to learn patterns.\n",
        "- Evaluation: Assessing the model's performance on unseen data"
      ],
      "metadata": {
        "id": "fu8Abm-WNr-U"
      }
    },
    {
      "cell_type": "markdown",
      "source": [
        "4.  How does loss value help in determining whether the model is good or not?\n",
        "   - The loss value (or loss function) quantifies the difference between the model's predictions and the actual values. A lower loss value indicates that the model's predictions are closer to the true values, suggesting better performance. Monitoring the loss during training helps determine if the model is learning effectively and when to stop training to avoid overfitting"
      ],
      "metadata": {
        "id": "pnqXiva6N-8b"
      }
    },
    {
      "cell_type": "markdown",
      "source": [
        "5.  What are continuous and categorical variables?\n",
        "   - Continuous variables are numerical variables that can take any value within a range (e.g., height, weight, temperature).\n",
        "   - Categorical variables are variables that represent categories or groups (e.g., gender, color, type of animal). They can be nominal (no order) or ordinal (ordered categories)\n"
      ],
      "metadata": {
        "id": "_hyZ1U_4OIYB"
      }
    },
    {
      "cell_type": "markdown",
      "source": [
        "6.  How do we handle categorical variables in Machine Learning? What are the common techniques?\n",
        "   - Categorical variables must be converted into a numerical format for most machine learning algorithms. Common techniques include:\n",
        "- Label Encoding: Assigns a unique integer to each category.\n",
        "- One-Hot Encoding: Creates binary columns for each category (1 if present, 0 otherwise).\n",
        "- Ordinal Encoding: Assigns ordered integers to categories with a natural order.\n",
        "- Binary Encoding: Converts categories into binary code and splits them into columns.\n",
        "   - These techniques are available in libraries like scikit-learn and pandas"
      ],
      "metadata": {
        "id": "6r4JwyVXOWk1"
      }
    },
    {
      "cell_type": "markdown",
      "source": [
        "7.  What do you mean by training and testing a dataset?\n",
        "   - Training a dataset means using a portion of the data to teach the model to recognize patterns and relationships.\n",
        "   - Testing a dataset involves evaluating the trained model's performance on a separate, unseen portion of the data to assess its generalization ability\n",
        ".\n"
      ],
      "metadata": {
        "id": "ohWeK8lfOv2i"
      }
    },
    {
      "cell_type": "markdown",
      "source": [
        "8.  What is sklearn.preprocessing?\n",
        "   - sklearn.preprocessing is a module in scikit-learn that provides functions and classes for preprocessing data. It includes tools for scaling, normalizing, encoding categorical variables, imputing missing values, and more. Preprocessing ensures that data is in a suitable format for machine learning algorithms"
      ],
      "metadata": {
        "id": "tsh1B3nrO8Mj"
      }
    },
    {
      "cell_type": "markdown",
      "source": [
        "9.  What is a Test set?\n",
        "   - A test set is a subset of the data that is kept separate from the training data. It is used exclusively to evaluate the final performance of a trained model, providing an unbiased estimate of how the model will perform on new, unseen data\n",
        "."
      ],
      "metadata": {
        "id": "lFDM9Go5PExz"
      }
    },
    {
      "cell_type": "markdown",
      "source": [
        "10. How do we split data for model fitting (training and testing) in Python?\n",
        " How do you approach a Machine Learning problem?\n",
        "    - In Python, you can use the train_test_split function from sklearn.model_selection to split your data into training and testing sets.\n",
        "    - For example:\n",
        "   - A typical approach includes:\n",
        "- Understanding the problem and data.\n",
        "- Data collection and preprocessing (cleaning, encoding, scaling).\n",
        "- Exploratory Data Analysis (EDA) to uncover patterns and relationships.\n",
        "- Feature engineering to create or select relevant features.\n",
        "- Model selection and training.\n",
        "- Model evaluation using appropriate metrics.\n",
        "- Hyperparameter tuning and optimization.\n",
        "- Deployment and monitoring"
      ],
      "metadata": {
        "id": "-sXQwjCwPP61"
      }
    },
    {
      "cell_type": "code",
      "source": [
        "from sklearn.model_selection import train_test_split\n",
        "X_train, X_test, y_train, y_test = train_test_split(X, y, test_size=0.2, random_state=42)"
      ],
      "metadata": {
        "id": "A3fa7o3qUq_b"
      },
      "execution_count": null,
      "outputs": []
    },
    {
      "cell_type": "markdown",
      "source": [
        "11.  Why do we have to perform EDA before fitting a model to the data?\n",
        "   - Exploratory Data Analysis (EDA) helps you understand the data's structure, detect anomalies, identify relationships, and select relevant features. EDA ensures that the data is suitable for modeling and helps prevent issues like overfitting, underfitting, or data leakage\n",
        "."
      ],
      "metadata": {
        "id": "tO-C77Z-Pkq7"
      }
    },
    {
      "cell_type": "markdown",
      "source": [
        "12.  What is correlation?\n",
        "   -  Correlation is a statistical measure that describes the strength and direction of a relationship between two variables. It quantifies how changes in one variable are associated with changes in another. The most common measure is the Pearson correlation coefficient, which ranges from -1 (perfect negative correlation) to +1 (perfect positive correlation), with 0 indicating no linear relationship"
      ],
      "metadata": {
        "id": "ePxuePSeQQ0Z"
      }
    },
    {
      "cell_type": "markdown",
      "source": [
        "13.  How can you find correlation between variables in Python?\n",
        "   - You can use the corr() method in pandas to compute the correlation matrix:\n",
        "- For specific pairs, you can use scipy.stats.pearsonr or numpy.corrcoef\n",
        "."
      ],
      "metadata": {
        "id": "fkOYgM9xQbh_"
      }
    },
    {
      "cell_type": "code",
      "source": [
        "import pandas as pd\n",
        "\n",
        "# Sample data (replace with your actual data)\n",
        "data = {'col1': [1, 2, 3], 'col2': [4, 5, 6]}\n",
        "\n",
        "df = pd.DataFrame(data)\n",
        "correlation_matrix = df.corr()\n",
        "\n",
        "# Display the correlation matrix\n",
        "display(correlation_matrix)"
      ],
      "metadata": {
        "colab": {
          "base_uri": "https://localhost:8080/",
          "height": 125
        },
        "id": "lNiOuj9sS4UX",
        "outputId": "966b1007-e526-4c63-a0f8-dbadc730a6e5"
      },
      "execution_count": 2,
      "outputs": [
        {
          "output_type": "display_data",
          "data": {
            "text/plain": [
              "      col1  col2\n",
              "col1   1.0   1.0\n",
              "col2   1.0   1.0"
            ],
            "text/html": [
              "\n",
              "  <div id=\"df-749b262b-1310-446d-a998-d966d9d7fe46\" class=\"colab-df-container\">\n",
              "    <div>\n",
              "<style scoped>\n",
              "    .dataframe tbody tr th:only-of-type {\n",
              "        vertical-align: middle;\n",
              "    }\n",
              "\n",
              "    .dataframe tbody tr th {\n",
              "        vertical-align: top;\n",
              "    }\n",
              "\n",
              "    .dataframe thead th {\n",
              "        text-align: right;\n",
              "    }\n",
              "</style>\n",
              "<table border=\"1\" class=\"dataframe\">\n",
              "  <thead>\n",
              "    <tr style=\"text-align: right;\">\n",
              "      <th></th>\n",
              "      <th>col1</th>\n",
              "      <th>col2</th>\n",
              "    </tr>\n",
              "  </thead>\n",
              "  <tbody>\n",
              "    <tr>\n",
              "      <th>col1</th>\n",
              "      <td>1.0</td>\n",
              "      <td>1.0</td>\n",
              "    </tr>\n",
              "    <tr>\n",
              "      <th>col2</th>\n",
              "      <td>1.0</td>\n",
              "      <td>1.0</td>\n",
              "    </tr>\n",
              "  </tbody>\n",
              "</table>\n",
              "</div>\n",
              "    <div class=\"colab-df-buttons\">\n",
              "\n",
              "  <div class=\"colab-df-container\">\n",
              "    <button class=\"colab-df-convert\" onclick=\"convertToInteractive('df-749b262b-1310-446d-a998-d966d9d7fe46')\"\n",
              "            title=\"Convert this dataframe to an interactive table.\"\n",
              "            style=\"display:none;\">\n",
              "\n",
              "  <svg xmlns=\"http://www.w3.org/2000/svg\" height=\"24px\" viewBox=\"0 -960 960 960\">\n",
              "    <path d=\"M120-120v-720h720v720H120Zm60-500h600v-160H180v160Zm220 220h160v-160H400v160Zm0 220h160v-160H400v160ZM180-400h160v-160H180v160Zm440 0h160v-160H620v160ZM180-180h160v-160H180v160Zm440 0h160v-160H620v160Z\"/>\n",
              "  </svg>\n",
              "    </button>\n",
              "\n",
              "  <style>\n",
              "    .colab-df-container {\n",
              "      display:flex;\n",
              "      gap: 12px;\n",
              "    }\n",
              "\n",
              "    .colab-df-convert {\n",
              "      background-color: #E8F0FE;\n",
              "      border: none;\n",
              "      border-radius: 50%;\n",
              "      cursor: pointer;\n",
              "      display: none;\n",
              "      fill: #1967D2;\n",
              "      height: 32px;\n",
              "      padding: 0 0 0 0;\n",
              "      width: 32px;\n",
              "    }\n",
              "\n",
              "    .colab-df-convert:hover {\n",
              "      background-color: #E2EBFA;\n",
              "      box-shadow: 0px 1px 2px rgba(60, 64, 67, 0.3), 0px 1px 3px 1px rgba(60, 64, 67, 0.15);\n",
              "      fill: #174EA6;\n",
              "    }\n",
              "\n",
              "    .colab-df-buttons div {\n",
              "      margin-bottom: 4px;\n",
              "    }\n",
              "\n",
              "    [theme=dark] .colab-df-convert {\n",
              "      background-color: #3B4455;\n",
              "      fill: #D2E3FC;\n",
              "    }\n",
              "\n",
              "    [theme=dark] .colab-df-convert:hover {\n",
              "      background-color: #434B5C;\n",
              "      box-shadow: 0px 1px 3px 1px rgba(0, 0, 0, 0.15);\n",
              "      filter: drop-shadow(0px 1px 2px rgba(0, 0, 0, 0.3));\n",
              "      fill: #FFFFFF;\n",
              "    }\n",
              "  </style>\n",
              "\n",
              "    <script>\n",
              "      const buttonEl =\n",
              "        document.querySelector('#df-749b262b-1310-446d-a998-d966d9d7fe46 button.colab-df-convert');\n",
              "      buttonEl.style.display =\n",
              "        google.colab.kernel.accessAllowed ? 'block' : 'none';\n",
              "\n",
              "      async function convertToInteractive(key) {\n",
              "        const element = document.querySelector('#df-749b262b-1310-446d-a998-d966d9d7fe46');\n",
              "        const dataTable =\n",
              "          await google.colab.kernel.invokeFunction('convertToInteractive',\n",
              "                                                    [key], {});\n",
              "        if (!dataTable) return;\n",
              "\n",
              "        const docLinkHtml = 'Like what you see? Visit the ' +\n",
              "          '<a target=\"_blank\" href=https://colab.research.google.com/notebooks/data_table.ipynb>data table notebook</a>'\n",
              "          + ' to learn more about interactive tables.';\n",
              "        element.innerHTML = '';\n",
              "        dataTable['output_type'] = 'display_data';\n",
              "        await google.colab.output.renderOutput(dataTable, element);\n",
              "        const docLink = document.createElement('div');\n",
              "        docLink.innerHTML = docLinkHtml;\n",
              "        element.appendChild(docLink);\n",
              "      }\n",
              "    </script>\n",
              "  </div>\n",
              "\n",
              "\n",
              "    <div id=\"df-6a675b8b-e8f1-4364-bf03-69b27986e0e6\">\n",
              "      <button class=\"colab-df-quickchart\" onclick=\"quickchart('df-6a675b8b-e8f1-4364-bf03-69b27986e0e6')\"\n",
              "                title=\"Suggest charts\"\n",
              "                style=\"display:none;\">\n",
              "\n",
              "<svg xmlns=\"http://www.w3.org/2000/svg\" height=\"24px\"viewBox=\"0 0 24 24\"\n",
              "     width=\"24px\">\n",
              "    <g>\n",
              "        <path d=\"M19 3H5c-1.1 0-2 .9-2 2v14c0 1.1.9 2 2 2h14c1.1 0 2-.9 2-2V5c0-1.1-.9-2-2-2zM9 17H7v-7h2v7zm4 0h-2V7h2v10zm4 0h-2v-4h2v4z\"/>\n",
              "    </g>\n",
              "</svg>\n",
              "      </button>\n",
              "\n",
              "<style>\n",
              "  .colab-df-quickchart {\n",
              "      --bg-color: #E8F0FE;\n",
              "      --fill-color: #1967D2;\n",
              "      --hover-bg-color: #E2EBFA;\n",
              "      --hover-fill-color: #174EA6;\n",
              "      --disabled-fill-color: #AAA;\n",
              "      --disabled-bg-color: #DDD;\n",
              "  }\n",
              "\n",
              "  [theme=dark] .colab-df-quickchart {\n",
              "      --bg-color: #3B4455;\n",
              "      --fill-color: #D2E3FC;\n",
              "      --hover-bg-color: #434B5C;\n",
              "      --hover-fill-color: #FFFFFF;\n",
              "      --disabled-bg-color: #3B4455;\n",
              "      --disabled-fill-color: #666;\n",
              "  }\n",
              "\n",
              "  .colab-df-quickchart {\n",
              "    background-color: var(--bg-color);\n",
              "    border: none;\n",
              "    border-radius: 50%;\n",
              "    cursor: pointer;\n",
              "    display: none;\n",
              "    fill: var(--fill-color);\n",
              "    height: 32px;\n",
              "    padding: 0;\n",
              "    width: 32px;\n",
              "  }\n",
              "\n",
              "  .colab-df-quickchart:hover {\n",
              "    background-color: var(--hover-bg-color);\n",
              "    box-shadow: 0 1px 2px rgba(60, 64, 67, 0.3), 0 1px 3px 1px rgba(60, 64, 67, 0.15);\n",
              "    fill: var(--button-hover-fill-color);\n",
              "  }\n",
              "\n",
              "  .colab-df-quickchart-complete:disabled,\n",
              "  .colab-df-quickchart-complete:disabled:hover {\n",
              "    background-color: var(--disabled-bg-color);\n",
              "    fill: var(--disabled-fill-color);\n",
              "    box-shadow: none;\n",
              "  }\n",
              "\n",
              "  .colab-df-spinner {\n",
              "    border: 2px solid var(--fill-color);\n",
              "    border-color: transparent;\n",
              "    border-bottom-color: var(--fill-color);\n",
              "    animation:\n",
              "      spin 1s steps(1) infinite;\n",
              "  }\n",
              "\n",
              "  @keyframes spin {\n",
              "    0% {\n",
              "      border-color: transparent;\n",
              "      border-bottom-color: var(--fill-color);\n",
              "      border-left-color: var(--fill-color);\n",
              "    }\n",
              "    20% {\n",
              "      border-color: transparent;\n",
              "      border-left-color: var(--fill-color);\n",
              "      border-top-color: var(--fill-color);\n",
              "    }\n",
              "    30% {\n",
              "      border-color: transparent;\n",
              "      border-left-color: var(--fill-color);\n",
              "      border-top-color: var(--fill-color);\n",
              "      border-right-color: var(--fill-color);\n",
              "    }\n",
              "    40% {\n",
              "      border-color: transparent;\n",
              "      border-right-color: var(--fill-color);\n",
              "      border-top-color: var(--fill-color);\n",
              "    }\n",
              "    60% {\n",
              "      border-color: transparent;\n",
              "      border-right-color: var(--fill-color);\n",
              "    }\n",
              "    80% {\n",
              "      border-color: transparent;\n",
              "      border-right-color: var(--fill-color);\n",
              "      border-bottom-color: var(--fill-color);\n",
              "    }\n",
              "    90% {\n",
              "      border-color: transparent;\n",
              "      border-bottom-color: var(--fill-color);\n",
              "    }\n",
              "  }\n",
              "</style>\n",
              "\n",
              "      <script>\n",
              "        async function quickchart(key) {\n",
              "          const quickchartButtonEl =\n",
              "            document.querySelector('#' + key + ' button');\n",
              "          quickchartButtonEl.disabled = true;  // To prevent multiple clicks.\n",
              "          quickchartButtonEl.classList.add('colab-df-spinner');\n",
              "          try {\n",
              "            const charts = await google.colab.kernel.invokeFunction(\n",
              "                'suggestCharts', [key], {});\n",
              "          } catch (error) {\n",
              "            console.error('Error during call to suggestCharts:', error);\n",
              "          }\n",
              "          quickchartButtonEl.classList.remove('colab-df-spinner');\n",
              "          quickchartButtonEl.classList.add('colab-df-quickchart-complete');\n",
              "        }\n",
              "        (() => {\n",
              "          let quickchartButtonEl =\n",
              "            document.querySelector('#df-6a675b8b-e8f1-4364-bf03-69b27986e0e6 button');\n",
              "          quickchartButtonEl.style.display =\n",
              "            google.colab.kernel.accessAllowed ? 'block' : 'none';\n",
              "        })();\n",
              "      </script>\n",
              "    </div>\n",
              "\n",
              "  <div id=\"id_0c97437a-f79e-4d70-b154-35d84f99130f\">\n",
              "    <style>\n",
              "      .colab-df-generate {\n",
              "        background-color: #E8F0FE;\n",
              "        border: none;\n",
              "        border-radius: 50%;\n",
              "        cursor: pointer;\n",
              "        display: none;\n",
              "        fill: #1967D2;\n",
              "        height: 32px;\n",
              "        padding: 0 0 0 0;\n",
              "        width: 32px;\n",
              "      }\n",
              "\n",
              "      .colab-df-generate:hover {\n",
              "        background-color: #E2EBFA;\n",
              "        box-shadow: 0px 1px 2px rgba(60, 64, 67, 0.3), 0px 1px 3px 1px rgba(60, 64, 67, 0.15);\n",
              "        fill: #174EA6;\n",
              "      }\n",
              "\n",
              "      [theme=dark] .colab-df-generate {\n",
              "        background-color: #3B4455;\n",
              "        fill: #D2E3FC;\n",
              "      }\n",
              "\n",
              "      [theme=dark] .colab-df-generate:hover {\n",
              "        background-color: #434B5C;\n",
              "        box-shadow: 0px 1px 3px 1px rgba(0, 0, 0, 0.15);\n",
              "        filter: drop-shadow(0px 1px 2px rgba(0, 0, 0, 0.3));\n",
              "        fill: #FFFFFF;\n",
              "      }\n",
              "    </style>\n",
              "    <button class=\"colab-df-generate\" onclick=\"generateWithVariable('correlation_matrix')\"\n",
              "            title=\"Generate code using this dataframe.\"\n",
              "            style=\"display:none;\">\n",
              "\n",
              "  <svg xmlns=\"http://www.w3.org/2000/svg\" height=\"24px\"viewBox=\"0 0 24 24\"\n",
              "       width=\"24px\">\n",
              "    <path d=\"M7,19H8.4L18.45,9,17,7.55,7,17.6ZM5,21V16.75L18.45,3.32a2,2,0,0,1,2.83,0l1.4,1.43a1.91,1.91,0,0,1,.58,1.4,1.91,1.91,0,0,1-.58,1.4L9.25,21ZM18.45,9,17,7.55Zm-12,3A5.31,5.31,0,0,0,4.9,8.1,5.31,5.31,0,0,0,1,6.5,5.31,5.31,0,0,0,4.9,4.9,5.31,5.31,0,0,0,6.5,1,5.31,5.31,0,0,0,8.1,4.9,5.31,5.31,0,0,0,12,6.5,5.46,5.46,0,0,0,6.5,12Z\"/>\n",
              "  </svg>\n",
              "    </button>\n",
              "    <script>\n",
              "      (() => {\n",
              "      const buttonEl =\n",
              "        document.querySelector('#id_0c97437a-f79e-4d70-b154-35d84f99130f button.colab-df-generate');\n",
              "      buttonEl.style.display =\n",
              "        google.colab.kernel.accessAllowed ? 'block' : 'none';\n",
              "\n",
              "      buttonEl.onclick = () => {\n",
              "        google.colab.notebook.generateWithVariable('correlation_matrix');\n",
              "      }\n",
              "      })();\n",
              "    </script>\n",
              "  </div>\n",
              "\n",
              "    </div>\n",
              "  </div>\n"
            ],
            "application/vnd.google.colaboratory.intrinsic+json": {
              "type": "dataframe",
              "variable_name": "correlation_matrix",
              "summary": "{\n  \"name\": \"correlation_matrix\",\n  \"rows\": 2,\n  \"fields\": [\n    {\n      \"column\": \"col1\",\n      \"properties\": {\n        \"dtype\": \"number\",\n        \"std\": 0.0,\n        \"min\": 1.0,\n        \"max\": 1.0,\n        \"num_unique_values\": 1,\n        \"samples\": [\n          1.0\n        ],\n        \"semantic_type\": \"\",\n        \"description\": \"\"\n      }\n    },\n    {\n      \"column\": \"col2\",\n      \"properties\": {\n        \"dtype\": \"number\",\n        \"std\": 0.0,\n        \"min\": 1.0,\n        \"max\": 1.0,\n        \"num_unique_values\": 1,\n        \"samples\": [\n          1.0\n        ],\n        \"semantic_type\": \"\",\n        \"description\": \"\"\n      }\n    }\n  ]\n}"
            }
          },
          "metadata": {}
        }
      ]
    },
    {
      "cell_type": "markdown",
      "source": [
        "14.  What is causation? Explain difference between correlation and causation with an example.\n",
        "   - Causation means that one variable directly affects another. Correlation only indicates that two variables move together, not that one causes the other.\n",
        "- Example: Ice cream sales and drowning incidents are correlated (both increase in summer), but eating ice cream does not cause drowning. The underlying cause is hot weather, which increases both swimming and ice cream consumption\n",
        ".\n"
      ],
      "metadata": {
        "id": "MQNex_gGRRI7"
      }
    },
    {
      "cell_type": "markdown",
      "source": [
        "15.  What is an Optimizer? What are different types of optimizers? Explain each with an example.\n",
        "   - An optimizer is an algorithm that adjusts the parameters of a model to minimize the loss function during training.\n",
        "- Gradient Descent: Updates parameters in the direction of the negative gradient of the loss function.\n",
        "- Stochastic Gradient Descent (SGD): Uses a random subset (mini-batch) of data for each update, making it faster for large datasets.\n",
        "- Adam: Combines momentum and adaptive learning rates for efficient optimization.\n",
        "- RMSprop: Adjusts learning rates based on a moving average of squared gradients.\n",
        "   - Example: In neural networks, Adam is often used for its efficiency and ability to handle sparse gradients\n",
        "."
      ],
      "metadata": {
        "id": "NENenBtYRgbV"
      }
    },
    {
      "cell_type": "markdown",
      "source": [
        "16.  What is sklearn.linear_model ?\n",
        "   - sklearn.linear_model is a module in scikit-learn that provides classes and functions for linear models, such as linear regression, logistic regression, and ridge regression. These models are used for tasks like regression and classification"
      ],
      "metadata": {
        "id": "lvDJXosoRxhl"
      }
    },
    {
      "cell_type": "markdown",
      "source": [
        "17.  What does model.fit() do? What arguments must be given?\n",
        "   - model.fit() trains the model on the provided data. The main arguments are:\n",
        "- X: Feature matrix (input data).\n",
        "- y: Target vector (labels or values)."
      ],
      "metadata": {
        "id": "ICbZmOhgSW3g"
      }
    },
    {
      "cell_type": "code",
      "source": [
        "model.fit(X_train, y_train)\n",
        "# Some models may accept additional arguments for sample weights or validation data"
      ],
      "metadata": {
        "id": "IIubD-fMSvN5"
      },
      "execution_count": null,
      "outputs": []
    },
    {
      "cell_type": "markdown",
      "source": [
        "18.  What does model.predict() do? What arguments must be given?\n",
        "   - model.predict() uses the trained model to make predictions on new data. The main argument is:\n",
        "- X: Feature matrix of new/unseen data."
      ],
      "metadata": {
        "id": "Sby1E3BHSi5Z"
      }
    },
    {
      "cell_type": "code",
      "source": [
        "predictions = model.predict(X_test)\n",
        "# No target values are needed for prediction"
      ],
      "metadata": {
        "id": "kEAsZ-zrTK3Z"
      },
      "execution_count": null,
      "outputs": []
    },
    {
      "cell_type": "markdown",
      "source": [
        "19.  What are continuous and categorical variables?\n",
        "   - Continuous variables: Numbers that can have any value in a range (e.g., weight, height, price)\n",
        "\n",
        "   - Categorical variables: Values grouped into categories (e.g., colors, gender, grade level)\n"
      ],
      "metadata": {
        "id": "D0o41wLzTYtV"
      }
    },
    {
      "cell_type": "markdown",
      "source": [
        "20.  What is feature scaling? How does it help in Machine Learning?\n",
        "   - Feature scaling is the process of normalizing or standardizing the range of independent variables (features). It helps machine learning algorithms converge faster and perform better, especially those that rely on distance calculations (e.g., k-NN, SVM, gradient descent-based models)\n",
        ".\n"
      ],
      "metadata": {
        "id": "apjc3hqXTxs2"
      }
    },
    {
      "cell_type": "markdown",
      "source": [
        "21.  How do we perform scaling in Python?\n",
        "   - We use StandardScaler or MinMaxScaler from sklearn.preprocessing.\n",
        "\n",
        "Example using MinMaxScaler:"
      ],
      "metadata": {
        "id": "XUfpe0HuUC1d"
      }
    },
    {
      "cell_type": "code",
      "source": [
        "from sklearn.preprocessing import MinMaxScaler\n",
        "\n",
        "scaler = MinMaxScaler()\n",
        "X_scaled = scaler.fit_transform(X)\n"
      ],
      "metadata": {
        "id": "4XJdJy79UOxe"
      },
      "execution_count": null,
      "outputs": []
    },
    {
      "cell_type": "markdown",
      "source": [
        "22.  Explain data encoding?\n",
        "   - Data encoding is the process of converting categorical variables into a numerical format suitable for machine learning algorithms. Common encoding techniques include label encoding, one-hot encoding, and ordinal encoding. Encoding ensures that algorithms can interpret and process categorical data effectively\n",
        "."
      ],
      "metadata": {
        "id": "UhDh7LKQURa-"
      }
    }
  ]
}